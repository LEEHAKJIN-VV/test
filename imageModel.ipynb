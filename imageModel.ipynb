{
  "nbformat": 4,
  "nbformat_minor": 0,
  "metadata": {
    "colab": {
      "name": "imageModel.ipynb",
      "private_outputs": true,
      "provenance": [],
      "collapsed_sections": [],
      "include_colab_link": true
    },
    "kernelspec": {
      "name": "python3",
      "display_name": "Python 3"
    },
    "accelerator": "GPU"
  },
  "cells": [
    {
      "cell_type": "markdown",
      "metadata": {
        "id": "view-in-github",
        "colab_type": "text"
      },
      "source": [
        "<a href=\"https://colab.research.google.com/github/LEEHAKJIN-VV/test/blob/main/imageModel.ipynb\" target=\"_parent\"><img src=\"https://colab.research.google.com/assets/colab-badge.svg\" alt=\"Open In Colab\"/></a>"
      ]
    },
    {
      "cell_type": "code",
      "metadata": {
        "id": "tTIs8kFbSRNO"
      },
      "source": [
        "# !pip install kaggle\n",
        "\n",
        "# from google.colab import files\n",
        "# files.upload()"
      ],
      "execution_count": null,
      "outputs": []
    },
    {
      "cell_type": "code",
      "metadata": {
        "id": "dimJlHRySdck"
      },
      "source": [
        "# !mkdir -p ~/.kaggle\n",
        "# !cp kaggle.json ~/.kaggle/\n",
        "# !chmod 600 ~/.kaggle/kaggle.json"
      ],
      "execution_count": null,
      "outputs": []
    },
    {
      "cell_type": "code",
      "metadata": {
        "id": "42JgzhcUSgGt"
      },
      "source": [
        "# !kaggle datasets list -s dogs-vs-cats"
      ],
      "execution_count": null,
      "outputs": []
    },
    {
      "cell_type": "code",
      "metadata": {
        "id": "AEFNTXQJSi0w"
      },
      "source": [
        "#!kaggle datasets download -d tongpython/cat-and-dog"
      ],
      "execution_count": null,
      "outputs": []
    },
    {
      "cell_type": "code",
      "metadata": {
        "id": "jLOEVRNSSmEP"
      },
      "source": [
        "# !unzip cat-and-dog.zip\n",
        "# !ls"
      ],
      "execution_count": null,
      "outputs": []
    },
    {
      "cell_type": "code",
      "metadata": {
        "id": "p92QJMcm7eR2"
      },
      "source": [
        "import numpy as np\n",
        "import pandas as pd\n",
        "from keras.preprocessing.image import ImageDataGenerator, load_img\n",
        "from keras.utils import to_categorical\n",
        "from sklearn.model_selection import train_test_split\n",
        "import matplotlib.pyplot as plt\n",
        "import random\n",
        "import os\n",
        "print(os.listdir(\"./data\"))\n",
        "print(len(os.listdir(\"./data/test1\")))"
      ],
      "execution_count": null,
      "outputs": []
    },
    {
      "cell_type": "markdown",
      "metadata": {
        "id": "YLsuyeLU8BoY"
      },
      "source": [
        "4. 글로벌 변수를 선언 합니다.\n",
        "\n",
        "앞서 압축 풀어놓은 이미지의 가로크기, 세로크기, 사이즈(128x128)와\n",
        "\n",
        "채널(칼라 사잔이므로R, G, B세개)을 정의 해 놓습니다.\n",
        "\n",
        "나중에 convolution연산 시 channel정보가 필요하므로, 미리 정의해 놓습니다."
      ]
    },
    {
      "cell_type": "code",
      "metadata": {
        "id": "C5tmBLrN78tV"
      },
      "source": [
        "FAST_RUN = False\n",
        "IMAGE_WIDTH = 128\n",
        "IMAGE_HEIGHT = 128\n",
        "IMAGE_SIZE = (IMAGE_WIDTH, IMAGE_HEIGHT)\n",
        "IMAGE_CHANNELS = 3"
      ],
      "execution_count": null,
      "outputs": []
    },
    {
      "cell_type": "markdown",
      "metadata": {
        "id": "b8iuMNI48Sfv"
      },
      "source": [
        "\n",
        "5. 파일명과 정답 설정\n",
        "\n",
        "압축 푼 디렉토리 중, train디렉토리에는 dogxxx.jpg, catxxx.jpg등, 개와 고양이를 파일 이름으로 구분짓도록\n",
        "\n",
        "파일이 저장되어 있습니다.\n",
        "\n",
        "이를 구분하여 개에 해당되는 파일명과 정답('개', 1)을, 그리고 고양이에 해당되는 파일명과 정답('고양이', 0)을\n",
        "\n",
        "dataframe에 저장해 놓습니다."
      ]
    },
    {
      "cell_type": "code",
      "metadata": {
        "id": "3rVhDoGU8UKi"
      },
      "source": [
        "#Preparig Traning Data\n",
        "filenames = os.listdir(\"./data/train\")\n",
        "categories = []\n",
        "for filename in filenames:\n",
        "    category = filename.split('.')[0]\n",
        "    if category == 'dog':\n",
        "        categories.append(1)\n",
        "    else:\n",
        "        categories.append(0)\n",
        "\n",
        "df = pd.DataFrame({\n",
        "    'filename':filenames,\n",
        "    'category':categories\n",
        "})"
      ],
      "execution_count": null,
      "outputs": []
    },
    {
      "cell_type": "code",
      "metadata": {
        "id": "AC1TLFU2aPkF"
      },
      "source": [
        "df.head()"
      ],
      "execution_count": null,
      "outputs": []
    },
    {
      "cell_type": "code",
      "metadata": {
        "id": "WAD7OADdaqM1"
      },
      "source": [
        "df.tail()"
      ],
      "execution_count": null,
      "outputs": []
    },
    {
      "cell_type": "code",
      "metadata": {
        "id": "5n9AnpAO8fxF"
      },
      "source": [
        "df['category'].value_counts().plot.bar()"
      ],
      "execution_count": null,
      "outputs": []
    },
    {
      "cell_type": "markdown",
      "metadata": {
        "id": "6l9k-Rw19DoV"
      },
      "source": [
        "\n",
        "8. Sample데이터 확인\n",
        "\n",
        "데이터 디렉토리중 임의로 하나를 뽑아서 확인 합니다.\n",
        "\n",
        "아베...아니, 개가 잘 표시 되는군요."
      ]
    },
    {
      "cell_type": "code",
      "metadata": {
        "id": "09R91b0M9DMN"
      },
      "source": [
        "sample = random.choice(filenames)\n",
        "image = load_img(\"./data/train/\"+sample)\n",
        "plt.imshow(image)"
      ],
      "execution_count": null,
      "outputs": []
    },
    {
      "cell_type": "markdown",
      "metadata": {
        "id": "1LbONM9J9MVK"
      },
      "source": [
        "9. 신경망 모델 구성\n",
        "\n",
        "모델 구성은...기본적인 룰이 있긴 하지만, 여러번 구조를 바꿔가며,\n",
        "\n",
        "잘 맞추는 모델이 나올때까지 구조를 변경시키는 것 입니다.\n",
        "\n",
        "물론, 훌륭하신 석학들이 미리 다 해보고 잘 되는 구조를 공개해 놓은걸 가져다 쓰는게 제일 좋습니다.\n",
        "\n",
        " \n",
        "\n",
        "우리에겐 좋은 구조를 찾기 위한 100대이상의 GPU서버를 가진 연구실이 없기 때문이죠."
      ]
    },
    {
      "cell_type": "code",
      "metadata": {
        "id": "v-iOXK4U9N13"
      },
      "source": [
        "from keras.models import Sequential\n",
        "from keras.layers import Conv2D, MaxPooling2D, Dropout, Flatten, Dense,Activation, BatchNormalization\n",
        "\n",
        "model = Sequential()\n",
        "\n",
        "model.add(Conv2D(32, (3,3), activation='relu', input_shape=(IMAGE_WIDTH, IMAGE_HEIGHT, IMAGE_CHANNELS)))\n",
        "model.add(BatchNormalization())\n",
        "model.add(MaxPooling2D(pool_size=(2,2)))\n",
        "model.add(Dropout(0.25))\n",
        "\n",
        "model.add(Conv2D(64, (3,3), activation='relu'))\n",
        "model.add(BatchNormalization())\n",
        "model.add(MaxPooling2D(pool_size=(2,2)))\n",
        "model.add(Dropout(0.25))\n",
        "\n",
        "model.add(Conv2D(128, (3,3), activation='relu'))\n",
        "model.add(BatchNormalization())\n",
        "model.add(MaxPooling2D(pool_size=(2,2)))\n",
        "model.add(Dropout(0.25))\n",
        "\n",
        "model.add(Flatten())\n",
        "model.add(Dense(512, activation='relu'))\n",
        "model.add(BatchNormalization())\n",
        "model.add(Dropout(0.5))\n",
        "model.add(Dense(2, activation='softmax'))   # 2 because we have dokdo or not\n",
        "\n",
        "model.compile(loss='categorical_crossentropy', optimizer='rmsprop', metrics=['accuracy'])\n",
        "\n",
        "model.summary()"
      ],
      "execution_count": null,
      "outputs": []
    },
    {
      "cell_type": "markdown",
      "metadata": {
        "id": "i0qj1M8S-y_a"
      },
      "source": [
        "10. 신경망 구조를 살펴봅니다.\n",
        "\n",
        "아래와 같은 구조로 생겼는데, 약 천이백만개의 파라미트를 학습해야 하는군요.\n",
        "\n",
        "학습데이터(개, 고양이사진)이 제일 위로 들어와서 제일 아래로 나가는 구조 입니다.\n",
        "\n",
        " \n",
        "\n",
        "제일 처음 conv2d layer의 shape를 보면 (None, 126, 126, 32) 이렇게 되어 있는데,\n",
        "\n",
        "가운데 126, 126 숫자 두개가 바로 입력되는 개, 고양이 사진의 가로, 세로 크기 입니다.\n",
        "\n",
        " \n",
        "\n",
        "제일 아래 Dense Layer에 보면 shape에 숫자 2가 있는데, 이게 바로 개냐 고양이냐 하는 두가지 케이스가\n",
        "\n",
        "있기 때문에 shape가 2로 된 것 입니다."
      ]
    },
    {
      "cell_type": "markdown",
      "metadata": {
        "id": "fBiUPU_2-2gv"
      },
      "source": [
        "11. 콜백 정의\n",
        "\n",
        "음..콜백은 다 아실거고...\n",
        "\n",
        "우선 조기종료(Early Stopping)와 학습율 하향조정을 위해 두 콜백 클래스를 import합니다."
      ]
    },
    {
      "cell_type": "code",
      "metadata": {
        "id": "8OpTl8DY98zz"
      },
      "source": [
        "from keras.callbacks import EarlyStopping, ReduceLROnPlateau"
      ],
      "execution_count": null,
      "outputs": []
    },
    {
      "cell_type": "markdown",
      "metadata": {
        "id": "YkZzM7Pa-_th"
      },
      "source": [
        "12. Early Stopping 정의\n",
        "\n",
        "Early Stopping이 뭐냐 하면...\n",
        "\n",
        "전체 개, 고양이 데이터가지고 조금씩 나눠서 여러차례 학습을 하는데,\n",
        "\n",
        "잘 학습되다가 어느시점 지나면 정확도가 오히려 떨어지는 case가 발생합니다.\n",
        "\n",
        "이때 10번까지 참다가, 10번 지나서도 계속 떨어지면 고만 학습하고 그 결과를 내라는 말 입니다."
      ]
    },
    {
      "cell_type": "code",
      "metadata": {
        "id": "FGoZUOs5_Bl_"
      },
      "source": [
        "# Early Stop\n",
        "# To prevent over fitting we will stop the learning after 10 epochs and val_loss not decreased\n",
        "earlystop = EarlyStopping(patience=10)"
      ],
      "execution_count": null,
      "outputs": []
    },
    {
      "cell_type": "markdown",
      "metadata": {
        "id": "jTz4y1gJ_aF4"
      },
      "source": [
        "13. Learning Rate 조정 정의\n",
        "\n",
        "이 클래스는 학습하는 동안 정확도를 잘 감시하고 있다가 어느 기준이 되면 학습율을 조정해주는 클래스 입니다"
      ]
    },
    {
      "cell_type": "code",
      "metadata": {
        "id": "vBmnvotp_bsg"
      },
      "source": [
        "#Learning Rate Reduction\n",
        "# We will reduce the learning rate when the accuracy not increase for 2 steps\n",
        "\n",
        "learning_rate_reduction = ReduceLROnPlateau(monitor='val_acc',\n",
        "                                           patience=2,\n",
        "                                           verbos=1,\n",
        "                                           factor=0.5,\n",
        "                                           min_lr=0.00001)"
      ],
      "execution_count": null,
      "outputs": []
    },
    {
      "cell_type": "markdown",
      "metadata": {
        "id": "uZjOBgV0_8x9"
      },
      "source": [
        "14. callback 설정\n",
        "\n",
        "앞서 정의한 두 콜백 클래스를 callbacks에 담아 놓습니다."
      ]
    },
    {
      "cell_type": "code",
      "metadata": {
        "id": "qMm_DBJ0_-GW"
      },
      "source": [
        "callbacks = [earlystop, learning_rate_reduction]"
      ],
      "execution_count": null,
      "outputs": []
    },
    {
      "cell_type": "markdown",
      "metadata": {
        "id": "Y4plFK3-AC6M"
      },
      "source": [
        "15. 개, 고양이를 string으로 변환\n",
        "\n",
        "아까 파일이름과 개인지 고양이 인지를 저장해놓은 dataframe에서\n",
        "\n",
        "category를 개인 경우 1로, 고양이 인 경우 0으로 변경해 줍니다.\n",
        "\n",
        "나중에 one-hot 인코딩으로 변환을 하기 위해서 입니다."
      ]
    },
    {
      "cell_type": "code",
      "metadata": {
        "id": "hRpQI1kvAEav"
      },
      "source": [
        "df['category'] = df['category'].replace({0: 'cat', 1: 'dog'})"
      ],
      "execution_count": null,
      "outputs": []
    },
    {
      "cell_type": "markdown",
      "metadata": {
        "id": "wSHrKxyjAVFB"
      },
      "source": [
        "16. train-validation 데이터 분리\n",
        "\n",
        "이제, train데이터중 20%를 쪼개서 학습중 파라미터 검증을 위한 validation셋을 마련해 놓습니다."
      ]
    },
    {
      "cell_type": "code",
      "metadata": {
        "id": "F2PcELawAoaW"
      },
      "source": [
        "train_df, validate_df = train_test_split(df, test_size=0.20, random_state=42)\n",
        "train_df = train_df.reset_index(drop=True)\n",
        "validate_df = validate_df.reset_index(drop=True)"
      ],
      "execution_count": null,
      "outputs": []
    },
    {
      "cell_type": "markdown",
      "metadata": {
        "id": "ObC2pBw6A5bL"
      },
      "source": [
        "17. train데이터의 분포 확인\n",
        "\n",
        "train데이터에 존재하는 개와 고양이 수를 그래프로 그려 봅니다."
      ]
    },
    {
      "cell_type": "code",
      "metadata": {
        "id": "HZ4pCi13A6uH"
      },
      "source": [
        "train_df['category'].value_counts().plot.bar()"
      ],
      "execution_count": null,
      "outputs": []
    },
    {
      "cell_type": "markdown",
      "metadata": {
        "id": "DYuThXVYBAQk"
      },
      "source": [
        "18. validation 분포 확인\n",
        "\n",
        "아까 잘라낸 20%의 데이터에도 개와 고양이의 분포를 확인 합니다."
      ]
    },
    {
      "cell_type": "code",
      "metadata": {
        "id": "hpn1AR8LBBtf"
      },
      "source": [
        "validate_df['category'].value_counts().plot.bar()"
      ],
      "execution_count": null,
      "outputs": []
    },
    {
      "cell_type": "markdown",
      "metadata": {
        "id": "LWlTMHTHBJXY"
      },
      "source": [
        "19. 학습, 검증데이터의 확인\n",
        "\n",
        "학습데이터 및 validation의 형상을 확인하고,\n",
        "\n",
        "한번에 학습할 batch의 size를 설정 합니다."
      ]
    },
    {
      "cell_type": "code",
      "metadata": {
        "id": "0NZvVaSeBKlv"
      },
      "source": [
        "total_train = train_df.shape[0]\n",
        "total_validate = validate_df.shape[0]\n",
        "batch_size = 15"
      ],
      "execution_count": null,
      "outputs": []
    },
    {
      "cell_type": "markdown",
      "metadata": {
        "id": "EHk74xc9BQPE"
      },
      "source": [
        "20. 학습데이터 뻥튀기\n",
        "\n",
        "아시다 시피 학습은 데이터가 많을수록 잘 될 가능성이 큽니다.\n",
        "\n",
        "학습데이터를 augmentation해서 수를 늘립니다.\n",
        "\n",
        "부풀리기는 이미지를 약간 회전시키거나, 줌을 하거나, 상하/좌우 반전을 시키는 방법으로 늘립니다."
      ]
    },
    {
      "cell_type": "code",
      "metadata": {
        "id": "QksqXEtYBRlu"
      },
      "source": [
        "#Train Generator\n",
        "train_datagen = ImageDataGenerator(\n",
        "    rotation_range = 15,\n",
        "    rescale=1./255,\n",
        "    shear_range=0.1,\n",
        "    zoom_range=0.2,\n",
        "    horizontal_flip=True,\n",
        "    width_shift_range=0.1,\n",
        "    height_shift_range=0.1\n",
        ")\n",
        "\n",
        "train_generator = train_datagen.flow_from_dataframe(\n",
        "    train_df,\n",
        "    \"./data/train/\",\n",
        "    x_col='filename',\n",
        "    y_col='category',\n",
        "    target_size=IMAGE_SIZE,\n",
        "    class_mode='categorical',\n",
        "    batch_size=batch_size\n",
        ")"
      ],
      "execution_count": null,
      "outputs": []
    },
    {
      "cell_type": "markdown",
      "metadata": {
        "id": "7eI38bsUCGrK"
      },
      "source": [
        "21. Validation데이터 뻥튀기\n",
        "\n",
        "validation이미지도 마찬가지로 작업을 해줍니다."
      ]
    },
    {
      "cell_type": "code",
      "metadata": {
        "id": "jgR3X9-jCJSZ"
      },
      "source": [
        "# Validation Generator\n",
        "validation_datagen = ImageDataGenerator(rescale=1./255)\n",
        "validation_generator = validation_datagen.flow_from_dataframe(\n",
        "    validate_df,\n",
        "    \"./data/train/\",\n",
        "    x_col='filename',\n",
        "    y_col='category',\n",
        "    target_size=IMAGE_SIZE,\n",
        "    class_mode='categorical',\n",
        "    batch_size=batch_size\n",
        ")"
      ],
      "execution_count": null,
      "outputs": []
    },
    {
      "cell_type": "markdown",
      "metadata": {
        "id": "3np_RKIFCsYe"
      },
      "source": [
        "22. 샘플 확인\n",
        "\n",
        "위에 데이터 부풀리기가 잘 되었는지 확인하기 위한 부풀리기를 수행합니다."
      ]
    },
    {
      "cell_type": "code",
      "metadata": {
        "id": "U-QSJJf1Cti6"
      },
      "source": [
        "# See how our generator work\n",
        "\n",
        "example_df = train_df.sample(n=1).reset_index(drop=True)\n",
        "example_generator = train_datagen.flow_from_dataframe(\n",
        "    example_df,\n",
        "    \"./data/train\",\n",
        "    x_col='filename',\n",
        "    y_col='category',\n",
        "    target_size=IMAGE_SIZE,\n",
        "    calss_mode='categorical'\n",
        ")"
      ],
      "execution_count": null,
      "outputs": []
    },
    {
      "cell_type": "markdown",
      "metadata": {
        "id": "4wZ0ZEwpDF84"
      },
      "source": [
        "23. 이미지 확인\n",
        "\n",
        "작업된 이미지를 확인 해 봅니다.\n",
        "\n",
        "자세히 보면 같은 개인데, 좌우 반전이나 줌이 되어 있는걸 볼 수 있죠."
      ]
    },
    {
      "cell_type": "code",
      "metadata": {
        "id": "Ka5dzKg1DHrj"
      },
      "source": [
        "plt.figure(figsize=(12,12))\n",
        "\n",
        "for i in range(0, 15):\n",
        "    plt.subplot(5, 3, i+1)\n",
        "    for X_batch, Y_batch in example_generator:\n",
        "        image = X_batch[0]\n",
        "        plt.imshow(image)\n",
        "        break\n",
        "plt.tight_layout()\n",
        "plt.show()"
      ],
      "execution_count": null,
      "outputs": []
    },
    {
      "cell_type": "markdown",
      "metadata": {
        "id": "9IRdctIGDeUV"
      },
      "source": [
        "24. 학습시작\n",
        "\n",
        "자, 이제 학습을 해봅시다.\n",
        "\n",
        "GPU서버에서 한 Epoch당 대략 5분정도가 걸린거 같습니다.\n",
        "\n",
        "회사에서 지급된 노트북으로는 15분에서 30분 걸립니다. (곱하기 50번을 해야 함)\n",
        "\n",
        "휴가 갈때 걸어놓고 가시길...\n",
        "\n",
        " \n",
        "\n",
        "학습이 잘 되었고 31번째 Epoch에서 ReduceLROnPlateau콜백이 일어났군요.\n",
        "\n",
        "1e-50 학습율에 도달한 모양입니다."
      ]
    },
    {
      "cell_type": "code",
      "metadata": {
        "id": "YthCraLLDfeG"
      },
      "source": [
        "#Fit model\n",
        "epochs=3 if FAST_RUN else 50\n",
        "history = model.fit_generator(\n",
        "    train_generator,\n",
        "    epochs=epochs,\n",
        "    validation_data=validation_generator,\n",
        "    validation_steps=total_validate//batch_size,\n",
        "    steps_per_epoch=total_train//batch_size,\n",
        "    callbacks=callbacks\n",
        ")"
      ],
      "execution_count": null,
      "outputs": []
    },
    {
      "cell_type": "markdown",
      "metadata": {
        "id": "3z0noISfD8nX"
      },
      "source": [
        "25. 모델 저장\n",
        "\n",
        "학습이 끝나면, 제일먼저 할일은 모델을 저장하는 것입니다.\n",
        "\n",
        "모델을 저장해 놓으면, 다음에 24번의 오래오래 걸리는 학습 단계를 생략할 수 있습니다."
      ]
    },
    {
      "cell_type": "code",
      "metadata": {
        "id": "hhuiM0jCD91X"
      },
      "source": [
        "####### Save Model\n",
        "model.save_weights(\"model.h5\")"
      ],
      "execution_count": null,
      "outputs": []
    },
    {
      "cell_type": "markdown",
      "metadata": {
        "id": "1W3Eq7JXEEUw"
      },
      "source": [
        " \n",
        "\n",
        "26. 학습 내용 확인\n",
        "\n",
        "이제 그동안 학습시킨 내용을 확인해봐야겠죠.\n",
        "\n",
        "train loss, validation loss와 train accuracy, validation accuracy 그래프를 그려봅니다"
      ]
    },
    {
      "cell_type": "code",
      "metadata": {
        "id": "tnjPrJX-EGQV"
      },
      "source": [
        "# #Virtuallize Training\n",
        "# fig, (ax1, ax2) = plt.subplots(2, 1, figsize=(12,12))\n",
        "# ax1.plot(history.history['loss'], color='b', label=\"Training loss\")\n",
        "# ax1.plot(history.history['val_loss'], color='r', label=\"validation loss\")\n",
        "# ax1.set_xticks(np.arange(1, epochs, 1))\n",
        "# ax1.set_yticks(np.arange(0, 1, 0.1))\n",
        "\n",
        "# ax2.plot(history.history['acc'], color='b', label=\"Training accuracy\")\n",
        "# ax2.plot(history.history['val_acc'], color='r', label=\"validation accuracy\")\n",
        "# ax2.set_xticks(np.arange(1, epochs, 1))\n",
        "\n",
        "# legend = plt.legend(loc='best', shadow=True)\n",
        "# plt.tight_layout()\n",
        "# plt.show()"
      ],
      "execution_count": null,
      "outputs": []
    },
    {
      "cell_type": "code",
      "metadata": {
        "id": "ZuWhKsRrCI0q"
      },
      "source": [
        "test_filenames = os.listdir(\"./data/test1/\")\n",
        "test_df = pd.DataFrame({\n",
        "    'filename' : test_filenames\n",
        "})\n",
        "\n",
        "nb_samples = test_df.shape[0]\n"
      ],
      "execution_count": null,
      "outputs": []
    },
    {
      "cell_type": "code",
      "metadata": {
        "id": "GdaW_XR0k5nZ"
      },
      "source": [
        "test_df.head()\n",
        "#print(len(test_df))\n",
        "#print('dog' in test_df.filename)\n"
      ],
      "execution_count": null,
      "outputs": []
    },
    {
      "cell_type": "code",
      "metadata": {
        "id": "oD-vti6dswJh"
      },
      "source": [
        "test_df.shape"
      ],
      "execution_count": null,
      "outputs": []
    },
    {
      "cell_type": "code",
      "metadata": {
        "id": "x3VKrksyCchm"
      },
      "source": [
        "test_gen = ImageDataGenerator(rescale = 1./255)\n",
        "test_generator = test_gen.flow_from_dataframe(\n",
        "    test_df, \n",
        "    \"./data/test1/\", \n",
        "    x_col = 'filename', \n",
        "    y_col = None, \n",
        "    class_mode = None, \n",
        "    target_size = IMAGE_SIZE,\n",
        "    batch_size = batch_size, \n",
        "    shuffle = False\n",
        ")"
      ],
      "execution_count": null,
      "outputs": []
    },
    {
      "cell_type": "code",
      "metadata": {
        "id": "PPMo9WO4s5B7"
      },
      "source": [
        "#이 코드는 이미지파일 말고 .ipynb_checkpoints이새끼가 하나 잘못들어가서 지우는 코드\n",
        "#혹시 이미지말고 다른 파일실수로 들어갈경우 쓰면되고 아니면 안써도됨\n",
        "# idx = test_df[test_df['filename']=='.ipynb_checkpoints'].index\n",
        "# test_df = test_df.drop(idx)\n",
        "# print(test_df.shape)"
      ],
      "execution_count": null,
      "outputs": []
    },
    {
      "cell_type": "code",
      "metadata": {
        "id": "m_bZ0mbNDJZ_"
      },
      "source": [
        "predict = model.predict_generator(test_generator, steps=np.ceil(nb_samples/batch_size))"
      ],
      "execution_count": null,
      "outputs": []
    },
    {
      "cell_type": "code",
      "metadata": {
        "id": "E5eQAPw_s_Xj"
      },
      "source": [
        "test_df.shape"
      ],
      "execution_count": null,
      "outputs": []
    },
    {
      "cell_type": "code",
      "metadata": {
        "id": "BKXtvGIVuj-i"
      },
      "source": [
        "print(np.argmax(predict, axis=-1))\n",
        "predict.shape"
      ],
      "execution_count": null,
      "outputs": []
    },
    {
      "cell_type": "code",
      "metadata": {
        "id": "asaSJtu8DTwK"
      },
      "source": [
        "test_df['category'] = np.argmax(predict, axis=-1)"
      ],
      "execution_count": null,
      "outputs": []
    },
    {
      "cell_type": "code",
      "metadata": {
        "id": "f2sMw575DaI9"
      },
      "source": [
        "test_df['category'] = test_df['category'].replace({'dog':1, 'cat':0})"
      ],
      "execution_count": null,
      "outputs": []
    },
    {
      "cell_type": "code",
      "metadata": {
        "id": "FvDNqgT1DnMk"
      },
      "source": [
        "test_df['category'].values_counts().plot.bar()"
      ],
      "execution_count": null,
      "outputs": []
    },
    {
      "cell_type": "code",
      "metadata": {
        "id": "X-PBjTTMDuiM"
      },
      "source": [
        "sample_test = test_df.head(18)\n",
        "sample_test.head()\n",
        "plt.figure(figsize=(12, 24))\n",
        "for index, row in sample_test.iterrows():\n",
        "  filename = row['filename']\n",
        "  category = row['category']\n",
        "  img = load_img(\"./data/test1/\"+filename, target_size=IMAGE_SIZE)\n",
        "  plt.subplot(6, 3, index+1)\n",
        "  plt.imshow(img)\n",
        "  plt.xlabel(filename + '(' + \"{}\".format(category) + ')')\n",
        "plt.tight_layout()\n",
        "plt.show()"
      ],
      "execution_count": null,
      "outputs": []
    }
  ]
}